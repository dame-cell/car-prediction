{
 "cells": [
  {
   "cell_type": "code",
   "execution_count": 1,
   "id": "9a0da690",
   "metadata": {
    "_cell_guid": "b1076dfc-b9ad-4769-8c92-a6c4dae69d19",
    "_uuid": "8f2839f25d086af736a60e9eeb907d3b93b6e0e5",
    "execution": {
     "iopub.execute_input": "2023-04-28T16:09:49.937585Z",
     "iopub.status.busy": "2023-04-28T16:09:49.937152Z",
     "iopub.status.idle": "2023-04-28T16:09:51.101853Z",
     "shell.execute_reply": "2023-04-28T16:09:51.101005Z"
    },
    "papermill": {
     "duration": 1.175805,
     "end_time": "2023-04-28T16:09:51.104085",
     "exception": false,
     "start_time": "2023-04-28T16:09:49.928280",
     "status": "completed"
    },
    "tags": []
   },
   "outputs": [
    {
     "name": "stdout",
     "output_type": "stream",
     "text": [
      "/kaggle/input/car-price-predictionused-cars/car data.csv\n"
     ]
    }
   ],
   "source": [
    "# This Python 3 environment comes with many helpful analytics libraries installed\n",
    "# It is defined by the kaggle/python Docker image: https://github.com/kaggle/docker-python\n",
    "# For example, here's several helpful packages to load\n",
    "\n",
    "import numpy as np # linear algebra\n",
    "import pandas as pd # data processing, CSV file I/O (e.g. pd.read_csv)\n",
    "from sklearn.model_selection import train_test_split\n",
    "from sklearn.linear_model import LinearRegression\n",
    "from sklearn import metrics\n",
    "\n",
    "# Input data files are available in the read-only \"../input/\" directory\n",
    "# For example, running this (by clicking run or pressing Shift+Enter) will list all files under the input directory\n",
    "\n",
    "import os\n",
    "for dirname, _, filenames in os.walk('/kaggle/input'):\n",
    "    for filename in filenames:\n",
    "        print(os.path.join(dirname, filename))\n",
    "\n",
    "# You can write up to 20GB to the current directory (/kaggle/working/) that gets preserved as output when you create a version using \"Save & Run All\" \n",
    "# You can also write temporary files to /kaggle/temp/, but they won't be saved outside of the current session"
   ]
  },
  {
   "cell_type": "code",
   "execution_count": 2,
   "id": "62ceaf23",
   "metadata": {
    "execution": {
     "iopub.execute_input": "2023-04-28T16:09:51.118606Z",
     "iopub.status.busy": "2023-04-28T16:09:51.117601Z",
     "iopub.status.idle": "2023-04-28T16:09:51.162142Z",
     "shell.execute_reply": "2023-04-28T16:09:51.161066Z"
    },
    "papermill": {
     "duration": 0.054381,
     "end_time": "2023-04-28T16:09:51.164529",
     "exception": false,
     "start_time": "2023-04-28T16:09:51.110148",
     "status": "completed"
    },
    "tags": []
   },
   "outputs": [
    {
     "data": {
      "text/html": [
       "<div>\n",
       "<style scoped>\n",
       "    .dataframe tbody tr th:only-of-type {\n",
       "        vertical-align: middle;\n",
       "    }\n",
       "\n",
       "    .dataframe tbody tr th {\n",
       "        vertical-align: top;\n",
       "    }\n",
       "\n",
       "    .dataframe thead th {\n",
       "        text-align: right;\n",
       "    }\n",
       "</style>\n",
       "<table border=\"1\" class=\"dataframe\">\n",
       "  <thead>\n",
       "    <tr style=\"text-align: right;\">\n",
       "      <th></th>\n",
       "      <th>Car_Name</th>\n",
       "      <th>Year</th>\n",
       "      <th>Selling_Price</th>\n",
       "      <th>Present_Price</th>\n",
       "      <th>Driven_kms</th>\n",
       "      <th>Fuel_Type</th>\n",
       "      <th>Selling_type</th>\n",
       "      <th>Transmission</th>\n",
       "      <th>Owner</th>\n",
       "    </tr>\n",
       "  </thead>\n",
       "  <tbody>\n",
       "    <tr>\n",
       "      <th>0</th>\n",
       "      <td>ritz</td>\n",
       "      <td>2014</td>\n",
       "      <td>3.35</td>\n",
       "      <td>5.59</td>\n",
       "      <td>27000</td>\n",
       "      <td>Petrol</td>\n",
       "      <td>Dealer</td>\n",
       "      <td>Manual</td>\n",
       "      <td>0</td>\n",
       "    </tr>\n",
       "    <tr>\n",
       "      <th>1</th>\n",
       "      <td>sx4</td>\n",
       "      <td>2013</td>\n",
       "      <td>4.75</td>\n",
       "      <td>9.54</td>\n",
       "      <td>43000</td>\n",
       "      <td>Diesel</td>\n",
       "      <td>Dealer</td>\n",
       "      <td>Manual</td>\n",
       "      <td>0</td>\n",
       "    </tr>\n",
       "    <tr>\n",
       "      <th>2</th>\n",
       "      <td>ciaz</td>\n",
       "      <td>2017</td>\n",
       "      <td>7.25</td>\n",
       "      <td>9.85</td>\n",
       "      <td>6900</td>\n",
       "      <td>Petrol</td>\n",
       "      <td>Dealer</td>\n",
       "      <td>Manual</td>\n",
       "      <td>0</td>\n",
       "    </tr>\n",
       "    <tr>\n",
       "      <th>3</th>\n",
       "      <td>wagon r</td>\n",
       "      <td>2011</td>\n",
       "      <td>2.85</td>\n",
       "      <td>4.15</td>\n",
       "      <td>5200</td>\n",
       "      <td>Petrol</td>\n",
       "      <td>Dealer</td>\n",
       "      <td>Manual</td>\n",
       "      <td>0</td>\n",
       "    </tr>\n",
       "    <tr>\n",
       "      <th>4</th>\n",
       "      <td>swift</td>\n",
       "      <td>2014</td>\n",
       "      <td>4.60</td>\n",
       "      <td>6.87</td>\n",
       "      <td>42450</td>\n",
       "      <td>Diesel</td>\n",
       "      <td>Dealer</td>\n",
       "      <td>Manual</td>\n",
       "      <td>0</td>\n",
       "    </tr>\n",
       "  </tbody>\n",
       "</table>\n",
       "</div>"
      ],
      "text/plain": [
       "  Car_Name  Year  Selling_Price  Present_Price  Driven_kms Fuel_Type  \\\n",
       "0     ritz  2014           3.35           5.59       27000    Petrol   \n",
       "1      sx4  2013           4.75           9.54       43000    Diesel   \n",
       "2     ciaz  2017           7.25           9.85        6900    Petrol   \n",
       "3  wagon r  2011           2.85           4.15        5200    Petrol   \n",
       "4    swift  2014           4.60           6.87       42450    Diesel   \n",
       "\n",
       "  Selling_type Transmission  Owner  \n",
       "0       Dealer       Manual      0  \n",
       "1       Dealer       Manual      0  \n",
       "2       Dealer       Manual      0  \n",
       "3       Dealer       Manual      0  \n",
       "4       Dealer       Manual      0  "
      ]
     },
     "execution_count": 2,
     "metadata": {},
     "output_type": "execute_result"
    }
   ],
   "source": [
    "df = pd.read_csv(\"/kaggle/input/car-price-predictionused-cars/car data.csv\")\n",
    "df.head()\n"
   ]
  },
  {
   "cell_type": "code",
   "execution_count": null,
   "id": "ddfa997d",
   "metadata": {
    "papermill": {
     "duration": 0.005881,
     "end_time": "2023-04-28T16:09:51.176994",
     "exception": false,
     "start_time": "2023-04-28T16:09:51.171113",
     "status": "completed"
    },
    "tags": []
   },
   "outputs": [],
   "source": []
  },
  {
   "cell_type": "code",
   "execution_count": 3,
   "id": "d962dae7",
   "metadata": {
    "execution": {
     "iopub.execute_input": "2023-04-28T16:09:51.191892Z",
     "iopub.status.busy": "2023-04-28T16:09:51.190778Z",
     "iopub.status.idle": "2023-04-28T16:09:51.228566Z",
     "shell.execute_reply": "2023-04-28T16:09:51.227389Z"
    },
    "papermill": {
     "duration": 0.047758,
     "end_time": "2023-04-28T16:09:51.230999",
     "exception": false,
     "start_time": "2023-04-28T16:09:51.183241",
     "status": "completed"
    },
    "tags": []
   },
   "outputs": [
    {
     "data": {
      "text/html": [
       "<div>\n",
       "<style scoped>\n",
       "    .dataframe tbody tr th:only-of-type {\n",
       "        vertical-align: middle;\n",
       "    }\n",
       "\n",
       "    .dataframe tbody tr th {\n",
       "        vertical-align: top;\n",
       "    }\n",
       "\n",
       "    .dataframe thead th {\n",
       "        text-align: right;\n",
       "    }\n",
       "</style>\n",
       "<table border=\"1\" class=\"dataframe\">\n",
       "  <thead>\n",
       "    <tr style=\"text-align: right;\">\n",
       "      <th></th>\n",
       "      <th>Year</th>\n",
       "      <th>Selling_Price</th>\n",
       "      <th>Present_Price</th>\n",
       "      <th>Driven_kms</th>\n",
       "      <th>Owner</th>\n",
       "    </tr>\n",
       "  </thead>\n",
       "  <tbody>\n",
       "    <tr>\n",
       "      <th>count</th>\n",
       "      <td>301.000000</td>\n",
       "      <td>301.000000</td>\n",
       "      <td>301.000000</td>\n",
       "      <td>301.000000</td>\n",
       "      <td>301.000000</td>\n",
       "    </tr>\n",
       "    <tr>\n",
       "      <th>mean</th>\n",
       "      <td>2013.627907</td>\n",
       "      <td>4.661296</td>\n",
       "      <td>7.628472</td>\n",
       "      <td>36947.205980</td>\n",
       "      <td>0.043189</td>\n",
       "    </tr>\n",
       "    <tr>\n",
       "      <th>std</th>\n",
       "      <td>2.891554</td>\n",
       "      <td>5.082812</td>\n",
       "      <td>8.642584</td>\n",
       "      <td>38886.883882</td>\n",
       "      <td>0.247915</td>\n",
       "    </tr>\n",
       "    <tr>\n",
       "      <th>min</th>\n",
       "      <td>2003.000000</td>\n",
       "      <td>0.100000</td>\n",
       "      <td>0.320000</td>\n",
       "      <td>500.000000</td>\n",
       "      <td>0.000000</td>\n",
       "    </tr>\n",
       "    <tr>\n",
       "      <th>25%</th>\n",
       "      <td>2012.000000</td>\n",
       "      <td>0.900000</td>\n",
       "      <td>1.200000</td>\n",
       "      <td>15000.000000</td>\n",
       "      <td>0.000000</td>\n",
       "    </tr>\n",
       "    <tr>\n",
       "      <th>50%</th>\n",
       "      <td>2014.000000</td>\n",
       "      <td>3.600000</td>\n",
       "      <td>6.400000</td>\n",
       "      <td>32000.000000</td>\n",
       "      <td>0.000000</td>\n",
       "    </tr>\n",
       "    <tr>\n",
       "      <th>75%</th>\n",
       "      <td>2016.000000</td>\n",
       "      <td>6.000000</td>\n",
       "      <td>9.900000</td>\n",
       "      <td>48767.000000</td>\n",
       "      <td>0.000000</td>\n",
       "    </tr>\n",
       "    <tr>\n",
       "      <th>max</th>\n",
       "      <td>2018.000000</td>\n",
       "      <td>35.000000</td>\n",
       "      <td>92.600000</td>\n",
       "      <td>500000.000000</td>\n",
       "      <td>3.000000</td>\n",
       "    </tr>\n",
       "  </tbody>\n",
       "</table>\n",
       "</div>"
      ],
      "text/plain": [
       "              Year  Selling_Price  Present_Price     Driven_kms       Owner\n",
       "count   301.000000     301.000000     301.000000     301.000000  301.000000\n",
       "mean   2013.627907       4.661296       7.628472   36947.205980    0.043189\n",
       "std       2.891554       5.082812       8.642584   38886.883882    0.247915\n",
       "min    2003.000000       0.100000       0.320000     500.000000    0.000000\n",
       "25%    2012.000000       0.900000       1.200000   15000.000000    0.000000\n",
       "50%    2014.000000       3.600000       6.400000   32000.000000    0.000000\n",
       "75%    2016.000000       6.000000       9.900000   48767.000000    0.000000\n",
       "max    2018.000000      35.000000      92.600000  500000.000000    3.000000"
      ]
     },
     "execution_count": 3,
     "metadata": {},
     "output_type": "execute_result"
    }
   ],
   "source": [
    "df.describe()\n"
   ]
  },
  {
   "cell_type": "code",
   "execution_count": 4,
   "id": "2b5dd6a5",
   "metadata": {
    "execution": {
     "iopub.execute_input": "2023-04-28T16:09:51.245452Z",
     "iopub.status.busy": "2023-04-28T16:09:51.245005Z",
     "iopub.status.idle": "2023-04-28T16:09:51.264260Z",
     "shell.execute_reply": "2023-04-28T16:09:51.262958Z"
    },
    "papermill": {
     "duration": 0.029471,
     "end_time": "2023-04-28T16:09:51.266805",
     "exception": false,
     "start_time": "2023-04-28T16:09:51.237334",
     "status": "completed"
    },
    "tags": []
   },
   "outputs": [
    {
     "name": "stdout",
     "output_type": "stream",
     "text": [
      "<class 'pandas.core.frame.DataFrame'>\n",
      "RangeIndex: 301 entries, 0 to 300\n",
      "Data columns (total 9 columns):\n",
      " #   Column         Non-Null Count  Dtype  \n",
      "---  ------         --------------  -----  \n",
      " 0   Car_Name       301 non-null    object \n",
      " 1   Year           301 non-null    int64  \n",
      " 2   Selling_Price  301 non-null    float64\n",
      " 3   Present_Price  301 non-null    float64\n",
      " 4   Driven_kms     301 non-null    int64  \n",
      " 5   Fuel_Type      301 non-null    object \n",
      " 6   Selling_type   301 non-null    object \n",
      " 7   Transmission   301 non-null    object \n",
      " 8   Owner          301 non-null    int64  \n",
      "dtypes: float64(2), int64(3), object(4)\n",
      "memory usage: 21.3+ KB\n"
     ]
    }
   ],
   "source": [
    "df.info()"
   ]
  },
  {
   "cell_type": "code",
   "execution_count": 5,
   "id": "9a9bb9d4",
   "metadata": {
    "execution": {
     "iopub.execute_input": "2023-04-28T16:09:51.282630Z",
     "iopub.status.busy": "2023-04-28T16:09:51.282121Z",
     "iopub.status.idle": "2023-04-28T16:09:51.289883Z",
     "shell.execute_reply": "2023-04-28T16:09:51.288452Z"
    },
    "papermill": {
     "duration": 0.018815,
     "end_time": "2023-04-28T16:09:51.292382",
     "exception": false,
     "start_time": "2023-04-28T16:09:51.273567",
     "status": "completed"
    },
    "tags": []
   },
   "outputs": [
    {
     "data": {
      "text/plain": [
       "(301, 9)"
      ]
     },
     "execution_count": 5,
     "metadata": {},
     "output_type": "execute_result"
    }
   ],
   "source": [
    "#checking the number of rows and columns \n",
    "df.shape"
   ]
  },
  {
   "cell_type": "code",
   "execution_count": 6,
   "id": "e01e1558",
   "metadata": {
    "execution": {
     "iopub.execute_input": "2023-04-28T16:09:51.307527Z",
     "iopub.status.busy": "2023-04-28T16:09:51.306997Z",
     "iopub.status.idle": "2023-04-28T16:09:51.316793Z",
     "shell.execute_reply": "2023-04-28T16:09:51.315886Z"
    },
    "papermill": {
     "duration": 0.019924,
     "end_time": "2023-04-28T16:09:51.319028",
     "exception": false,
     "start_time": "2023-04-28T16:09:51.299104",
     "status": "completed"
    },
    "tags": []
   },
   "outputs": [
    {
     "data": {
      "text/plain": [
       "Car_Name         0\n",
       "Year             0\n",
       "Selling_Price    0\n",
       "Present_Price    0\n",
       "Driven_kms       0\n",
       "Fuel_Type        0\n",
       "Selling_type     0\n",
       "Transmission     0\n",
       "Owner            0\n",
       "dtype: int64"
      ]
     },
     "execution_count": 6,
     "metadata": {},
     "output_type": "execute_result"
    }
   ],
   "source": [
    "#checking the number of missing data\n",
    "df.isnull().sum()"
   ]
  },
  {
   "cell_type": "code",
   "execution_count": 7,
   "id": "17d0a049",
   "metadata": {
    "execution": {
     "iopub.execute_input": "2023-04-28T16:09:51.334371Z",
     "iopub.status.busy": "2023-04-28T16:09:51.333937Z",
     "iopub.status.idle": "2023-04-28T16:09:51.344913Z",
     "shell.execute_reply": "2023-04-28T16:09:51.343271Z"
    },
    "papermill": {
     "duration": 0.02149,
     "end_time": "2023-04-28T16:09:51.347418",
     "exception": false,
     "start_time": "2023-04-28T16:09:51.325928",
     "status": "completed"
    },
    "tags": []
   },
   "outputs": [
    {
     "name": "stdout",
     "output_type": "stream",
     "text": [
      "Petrol    239\n",
      "Diesel     60\n",
      "CNG         2\n",
      "Name: Fuel_Type, dtype: int64\n",
      "Dealer        195\n",
      "Individual    106\n",
      "Name: Selling_type, dtype: int64\n",
      "Manual       261\n",
      "Automatic     40\n",
      "Name: Transmission, dtype: int64\n"
     ]
    }
   ],
   "source": [
    "#checking the categorical data\n",
    "print(df.Fuel_Type.value_counts())\n",
    "print(df.Selling_type.value_counts())\n",
    "print(df.Transmission.value_counts())\n",
    "\n",
    "\n"
   ]
  },
  {
   "cell_type": "code",
   "execution_count": 8,
   "id": "02176e68",
   "metadata": {
    "execution": {
     "iopub.execute_input": "2023-04-28T16:09:51.363944Z",
     "iopub.status.busy": "2023-04-28T16:09:51.363089Z",
     "iopub.status.idle": "2023-04-28T16:09:51.374591Z",
     "shell.execute_reply": "2023-04-28T16:09:51.373379Z"
    },
    "papermill": {
     "duration": 0.022469,
     "end_time": "2023-04-28T16:09:51.377360",
     "exception": false,
     "start_time": "2023-04-28T16:09:51.354891",
     "status": "completed"
    },
    "tags": []
   },
   "outputs": [],
   "source": [
    "#encoding \n",
    "df.replace({'Fuel_Type': {'Petrol':0,'Diesel':1,'CNG':2 } },inplace  = True)\n",
    "df.replace({'Selling_type': {'Dealer':0,'Individual':1}},inplace  = True)\n",
    "df.replace({'Transmission': {'Manual':0,'Automatic':1 } },inplace  = True)\n"
   ]
  },
  {
   "cell_type": "code",
   "execution_count": 9,
   "id": "7c01b074",
   "metadata": {
    "execution": {
     "iopub.execute_input": "2023-04-28T16:09:51.395440Z",
     "iopub.status.busy": "2023-04-28T16:09:51.394991Z",
     "iopub.status.idle": "2023-04-28T16:09:51.409395Z",
     "shell.execute_reply": "2023-04-28T16:09:51.408214Z"
    },
    "papermill": {
     "duration": 0.024944,
     "end_time": "2023-04-28T16:09:51.411694",
     "exception": false,
     "start_time": "2023-04-28T16:09:51.386750",
     "status": "completed"
    },
    "tags": []
   },
   "outputs": [
    {
     "data": {
      "text/html": [
       "<div>\n",
       "<style scoped>\n",
       "    .dataframe tbody tr th:only-of-type {\n",
       "        vertical-align: middle;\n",
       "    }\n",
       "\n",
       "    .dataframe tbody tr th {\n",
       "        vertical-align: top;\n",
       "    }\n",
       "\n",
       "    .dataframe thead th {\n",
       "        text-align: right;\n",
       "    }\n",
       "</style>\n",
       "<table border=\"1\" class=\"dataframe\">\n",
       "  <thead>\n",
       "    <tr style=\"text-align: right;\">\n",
       "      <th></th>\n",
       "      <th>Car_Name</th>\n",
       "      <th>Year</th>\n",
       "      <th>Selling_Price</th>\n",
       "      <th>Present_Price</th>\n",
       "      <th>Driven_kms</th>\n",
       "      <th>Fuel_Type</th>\n",
       "      <th>Selling_type</th>\n",
       "      <th>Transmission</th>\n",
       "      <th>Owner</th>\n",
       "    </tr>\n",
       "  </thead>\n",
       "  <tbody>\n",
       "    <tr>\n",
       "      <th>0</th>\n",
       "      <td>ritz</td>\n",
       "      <td>2014</td>\n",
       "      <td>3.35</td>\n",
       "      <td>5.59</td>\n",
       "      <td>27000</td>\n",
       "      <td>0</td>\n",
       "      <td>0</td>\n",
       "      <td>0</td>\n",
       "      <td>0</td>\n",
       "    </tr>\n",
       "    <tr>\n",
       "      <th>1</th>\n",
       "      <td>sx4</td>\n",
       "      <td>2013</td>\n",
       "      <td>4.75</td>\n",
       "      <td>9.54</td>\n",
       "      <td>43000</td>\n",
       "      <td>1</td>\n",
       "      <td>0</td>\n",
       "      <td>0</td>\n",
       "      <td>0</td>\n",
       "    </tr>\n",
       "    <tr>\n",
       "      <th>2</th>\n",
       "      <td>ciaz</td>\n",
       "      <td>2017</td>\n",
       "      <td>7.25</td>\n",
       "      <td>9.85</td>\n",
       "      <td>6900</td>\n",
       "      <td>0</td>\n",
       "      <td>0</td>\n",
       "      <td>0</td>\n",
       "      <td>0</td>\n",
       "    </tr>\n",
       "    <tr>\n",
       "      <th>3</th>\n",
       "      <td>wagon r</td>\n",
       "      <td>2011</td>\n",
       "      <td>2.85</td>\n",
       "      <td>4.15</td>\n",
       "      <td>5200</td>\n",
       "      <td>0</td>\n",
       "      <td>0</td>\n",
       "      <td>0</td>\n",
       "      <td>0</td>\n",
       "    </tr>\n",
       "    <tr>\n",
       "      <th>4</th>\n",
       "      <td>swift</td>\n",
       "      <td>2014</td>\n",
       "      <td>4.60</td>\n",
       "      <td>6.87</td>\n",
       "      <td>42450</td>\n",
       "      <td>1</td>\n",
       "      <td>0</td>\n",
       "      <td>0</td>\n",
       "      <td>0</td>\n",
       "    </tr>\n",
       "  </tbody>\n",
       "</table>\n",
       "</div>"
      ],
      "text/plain": [
       "  Car_Name  Year  Selling_Price  Present_Price  Driven_kms  Fuel_Type  \\\n",
       "0     ritz  2014           3.35           5.59       27000          0   \n",
       "1      sx4  2013           4.75           9.54       43000          1   \n",
       "2     ciaz  2017           7.25           9.85        6900          0   \n",
       "3  wagon r  2011           2.85           4.15        5200          0   \n",
       "4    swift  2014           4.60           6.87       42450          1   \n",
       "\n",
       "   Selling_type  Transmission  Owner  \n",
       "0             0             0      0  \n",
       "1             0             0      0  \n",
       "2             0             0      0  \n",
       "3             0             0      0  \n",
       "4             0             0      0  "
      ]
     },
     "execution_count": 9,
     "metadata": {},
     "output_type": "execute_result"
    }
   ],
   "source": [
    "df.head()"
   ]
  },
  {
   "cell_type": "code",
   "execution_count": 10,
   "id": "f8756042",
   "metadata": {
    "execution": {
     "iopub.execute_input": "2023-04-28T16:09:51.428427Z",
     "iopub.status.busy": "2023-04-28T16:09:51.427255Z",
     "iopub.status.idle": "2023-04-28T16:09:51.433949Z",
     "shell.execute_reply": "2023-04-28T16:09:51.433082Z"
    },
    "papermill": {
     "duration": 0.017455,
     "end_time": "2023-04-28T16:09:51.436169",
     "exception": false,
     "start_time": "2023-04-28T16:09:51.418714",
     "status": "completed"
    },
    "tags": []
   },
   "outputs": [],
   "source": [
    "#splitting into train and test dataset\n",
    "X = df.drop(['Car_Name' ,'Selling_Price'],axis= 1)\n",
    "Y = df['Selling_Price']"
   ]
  },
  {
   "cell_type": "code",
   "execution_count": 11,
   "id": "b2a96a61",
   "metadata": {
    "execution": {
     "iopub.execute_input": "2023-04-28T16:09:51.452746Z",
     "iopub.status.busy": "2023-04-28T16:09:51.452334Z",
     "iopub.status.idle": "2023-04-28T16:09:51.463730Z",
     "shell.execute_reply": "2023-04-28T16:09:51.462337Z"
    },
    "papermill": {
     "duration": 0.021881,
     "end_time": "2023-04-28T16:09:51.466065",
     "exception": false,
     "start_time": "2023-04-28T16:09:51.444184",
     "status": "completed"
    },
    "tags": []
   },
   "outputs": [
    {
     "name": "stdout",
     "output_type": "stream",
     "text": [
      "     Year  Present_Price  Driven_kms  Fuel_Type  Selling_type  Transmission  \\\n",
      "0    2014           5.59       27000          0             0             0   \n",
      "1    2013           9.54       43000          1             0             0   \n",
      "2    2017           9.85        6900          0             0             0   \n",
      "3    2011           4.15        5200          0             0             0   \n",
      "4    2014           6.87       42450          1             0             0   \n",
      "..    ...            ...         ...        ...           ...           ...   \n",
      "296  2016          11.60       33988          1             0             0   \n",
      "297  2015           5.90       60000          0             0             0   \n",
      "298  2009          11.00       87934          0             0             0   \n",
      "299  2017          12.50        9000          1             0             0   \n",
      "300  2016           5.90        5464          0             0             0   \n",
      "\n",
      "     Owner  \n",
      "0        0  \n",
      "1        0  \n",
      "2        0  \n",
      "3        0  \n",
      "4        0  \n",
      "..     ...  \n",
      "296      0  \n",
      "297      0  \n",
      "298      0  \n",
      "299      0  \n",
      "300      0  \n",
      "\n",
      "[301 rows x 7 columns]\n"
     ]
    }
   ],
   "source": [
    "print(X)"
   ]
  },
  {
   "cell_type": "code",
   "execution_count": 12,
   "id": "e7ee6491",
   "metadata": {
    "execution": {
     "iopub.execute_input": "2023-04-28T16:09:51.482045Z",
     "iopub.status.busy": "2023-04-28T16:09:51.481626Z",
     "iopub.status.idle": "2023-04-28T16:09:51.489180Z",
     "shell.execute_reply": "2023-04-28T16:09:51.487816Z"
    },
    "papermill": {
     "duration": 0.018457,
     "end_time": "2023-04-28T16:09:51.491630",
     "exception": false,
     "start_time": "2023-04-28T16:09:51.473173",
     "status": "completed"
    },
    "tags": []
   },
   "outputs": [
    {
     "name": "stdout",
     "output_type": "stream",
     "text": [
      "0       3.35\n",
      "1       4.75\n",
      "2       7.25\n",
      "3       2.85\n",
      "4       4.60\n",
      "       ...  \n",
      "296     9.50\n",
      "297     4.00\n",
      "298     3.35\n",
      "299    11.50\n",
      "300     5.30\n",
      "Name: Selling_Price, Length: 301, dtype: float64\n"
     ]
    }
   ],
   "source": [
    "print(Y)"
   ]
  },
  {
   "cell_type": "code",
   "execution_count": 13,
   "id": "a7af483a",
   "metadata": {
    "execution": {
     "iopub.execute_input": "2023-04-28T16:09:51.508105Z",
     "iopub.status.busy": "2023-04-28T16:09:51.506966Z",
     "iopub.status.idle": "2023-04-28T16:09:51.515815Z",
     "shell.execute_reply": "2023-04-28T16:09:51.514664Z"
    },
    "papermill": {
     "duration": 0.019512,
     "end_time": "2023-04-28T16:09:51.518066",
     "exception": false,
     "start_time": "2023-04-28T16:09:51.498554",
     "status": "completed"
    },
    "tags": []
   },
   "outputs": [],
   "source": [
    "#LET'S SPLIT THE DATA \n",
    "X_train , X_test , Y_train, Y_test = train_test_split(X,Y ,test_size =0.1 ,random_state = 2)"
   ]
  },
  {
   "cell_type": "code",
   "execution_count": 14,
   "id": "49d2a234",
   "metadata": {
    "execution": {
     "iopub.execute_input": "2023-04-28T16:09:51.534056Z",
     "iopub.status.busy": "2023-04-28T16:09:51.533338Z",
     "iopub.status.idle": "2023-04-28T16:09:51.538524Z",
     "shell.execute_reply": "2023-04-28T16:09:51.537370Z"
    },
    "papermill": {
     "duration": 0.015711,
     "end_time": "2023-04-28T16:09:51.540813",
     "exception": false,
     "start_time": "2023-04-28T16:09:51.525102",
     "status": "completed"
    },
    "tags": []
   },
   "outputs": [],
   "source": [
    "lin_reg_model = LinearRegression()\n"
   ]
  },
  {
   "cell_type": "code",
   "execution_count": 15,
   "id": "00cf7157",
   "metadata": {
    "execution": {
     "iopub.execute_input": "2023-04-28T16:09:51.556498Z",
     "iopub.status.busy": "2023-04-28T16:09:51.556089Z",
     "iopub.status.idle": "2023-04-28T16:09:51.584640Z",
     "shell.execute_reply": "2023-04-28T16:09:51.583468Z"
    },
    "papermill": {
     "duration": 0.03897,
     "end_time": "2023-04-28T16:09:51.586863",
     "exception": false,
     "start_time": "2023-04-28T16:09:51.547893",
     "status": "completed"
    },
    "tags": []
   },
   "outputs": [
    {
     "data": {
      "text/plain": [
       "LinearRegression()"
      ]
     },
     "execution_count": 15,
     "metadata": {},
     "output_type": "execute_result"
    }
   ],
   "source": [
    "lin_reg_model.fit(X_train , Y_train)"
   ]
  },
  {
   "cell_type": "code",
   "execution_count": 16,
   "id": "bacb7bd3",
   "metadata": {
    "execution": {
     "iopub.execute_input": "2023-04-28T16:09:51.602827Z",
     "iopub.status.busy": "2023-04-28T16:09:51.602435Z",
     "iopub.status.idle": "2023-04-28T16:09:51.609567Z",
     "shell.execute_reply": "2023-04-28T16:09:51.608657Z"
    },
    "papermill": {
     "duration": 0.017776,
     "end_time": "2023-04-28T16:09:51.611899",
     "exception": false,
     "start_time": "2023-04-28T16:09:51.594123",
     "status": "completed"
    },
    "tags": []
   },
   "outputs": [],
   "source": [
    "#evaluate model\n",
    "#predict model\n",
    "data_predict = lin_reg_model.predict(X_train)"
   ]
  },
  {
   "cell_type": "code",
   "execution_count": 17,
   "id": "14e6d5f4",
   "metadata": {
    "execution": {
     "iopub.execute_input": "2023-04-28T16:09:51.628449Z",
     "iopub.status.busy": "2023-04-28T16:09:51.627278Z",
     "iopub.status.idle": "2023-04-28T16:09:51.634502Z",
     "shell.execute_reply": "2023-04-28T16:09:51.633242Z"
    },
    "papermill": {
     "duration": 0.017683,
     "end_time": "2023-04-28T16:09:51.636725",
     "exception": false,
     "start_time": "2023-04-28T16:09:51.619042",
     "status": "completed"
    },
    "tags": []
   },
   "outputs": [
    {
     "name": "stdout",
     "output_type": "stream",
     "text": [
      "0.8796483009370216\n"
     ]
    }
   ],
   "source": [
    "#r sqared error\n",
    "error = metrics.r2_score(Y_train,data_predict)\n",
    "print(error)\n"
   ]
  },
  {
   "cell_type": "code",
   "execution_count": 18,
   "id": "1125caa0",
   "metadata": {
    "execution": {
     "iopub.execute_input": "2023-04-28T16:09:51.652538Z",
     "iopub.status.busy": "2023-04-28T16:09:51.652187Z",
     "iopub.status.idle": "2023-04-28T16:09:51.656622Z",
     "shell.execute_reply": "2023-04-28T16:09:51.655486Z"
    },
    "papermill": {
     "duration": 0.015125,
     "end_time": "2023-04-28T16:09:51.658846",
     "exception": false,
     "start_time": "2023-04-28T16:09:51.643721",
     "status": "completed"
    },
    "tags": []
   },
   "outputs": [],
   "source": [
    "#visualize\n",
    "import matplotlib.pyplot as plt"
   ]
  },
  {
   "cell_type": "code",
   "execution_count": 19,
   "id": "1e3e592f",
   "metadata": {
    "execution": {
     "iopub.execute_input": "2023-04-28T16:09:51.674588Z",
     "iopub.status.busy": "2023-04-28T16:09:51.674180Z",
     "iopub.status.idle": "2023-04-28T16:09:51.923148Z",
     "shell.execute_reply": "2023-04-28T16:09:51.921710Z"
    },
    "papermill": {
     "duration": 0.259944,
     "end_time": "2023-04-28T16:09:51.925826",
     "exception": false,
     "start_time": "2023-04-28T16:09:51.665882",
     "status": "completed"
    },
    "tags": []
   },
   "outputs": [
    {
     "data": {
      "image/png": "[encoded data removed]",
      "text/plain": [
       "<Figure size 640x480 with 1 Axes>"
      ]
     },
     "metadata": {},
     "output_type": "display_data"
    }
   ],
   "source": [
    "plt.scatter(Y_train ,data_predict )\n",
    "plt.xlabel('Actual prices')\n",
    "plt.ylabel('what_i_predicted')\n",
    "plt.title('Actual_prices vs what_i_predicted')\n",
    "plt.show()"
   ]
  },
  {
   "cell_type": "code",
   "execution_count": 20,
   "id": "946918fd",
   "metadata": {
    "execution": {
     "iopub.execute_input": "2023-04-28T16:09:51.943179Z",
     "iopub.status.busy": "2023-04-28T16:09:51.942720Z",
     "iopub.status.idle": "2023-04-28T16:09:51.950107Z",
     "shell.execute_reply": "2023-04-28T16:09:51.948871Z"
    },
    "papermill": {
     "duration": 0.018871,
     "end_time": "2023-04-28T16:09:51.952483",
     "exception": false,
     "start_time": "2023-04-28T16:09:51.933612",
     "status": "completed"
    },
    "tags": []
   },
   "outputs": [],
   "source": [
    "test_data_predict = lin_reg_model.predict(X_test)"
   ]
  },
  {
   "cell_type": "code",
   "execution_count": 21,
   "id": "3903f9d1",
   "metadata": {
    "execution": {
     "iopub.execute_input": "2023-04-28T16:09:51.969513Z",
     "iopub.status.busy": "2023-04-28T16:09:51.968643Z",
     "iopub.status.idle": "2023-04-28T16:09:51.974646Z",
     "shell.execute_reply": "2023-04-28T16:09:51.973690Z"
    },
    "papermill": {
     "duration": 0.016837,
     "end_time": "2023-04-28T16:09:51.976844",
     "exception": false,
     "start_time": "2023-04-28T16:09:51.960007",
     "status": "completed"
    },
    "tags": []
   },
   "outputs": [
    {
     "name": "stdout",
     "output_type": "stream",
     "text": [
      "0.8365861023210703\n"
     ]
    }
   ],
   "source": [
    "error = metrics.r2_score(Y_test,test_data_predict)\n",
    "print(error)\n"
   ]
  },
  {
   "cell_type": "code",
   "execution_count": 22,
   "id": "20352054",
   "metadata": {
    "execution": {
     "iopub.execute_input": "2023-04-28T16:09:51.993912Z",
     "iopub.status.busy": "2023-04-28T16:09:51.993509Z",
     "iopub.status.idle": "2023-04-28T16:09:52.216089Z",
     "shell.execute_reply": "2023-04-28T16:09:52.214928Z"
    },
    "papermill": {
     "duration": 0.234093,
     "end_time": "2023-04-28T16:09:52.218588",
     "exception": false,
     "start_time": "2023-04-28T16:09:51.984495",
     "status": "completed"
    },
    "tags": []
   },
   "outputs": [
    {
     "data": {
      "image/png": "[encoded data removed]",
      "text/plain": [
       "<Figure size 640x480 with 1 Axes>"
      ]
     },
     "metadata": {},
     "output_type": "display_data"
    }
   ],
   "source": [
    "plt.scatter(Y_test ,test_data_predict )\n",
    "plt.xlabel('Actual prices')\n",
    "plt.ylabel('what_i_predicted')\n",
    "plt.title('Actual_prices vs what_i_predicted')\n",
    "plt.show()\n"
   ]
  }
 ],
 "metadata": {
  "kernelspec": {
   "display_name": "Python 3",
   "language": "python",
   "name": "python3"
  },
  "language_info": {
   "codemirror_mode": {
    "name": "ipython",
    "version": 3
   },
   "file_extension": ".py",
   "mimetype": "text/x-python",
   "name": "python",
   "nbconvert_exporter": "python",
   "pygments_lexer": "ipython3",
   "version": "3.7.12"
  },
  "papermill": {
   "default_parameters": {},
   "duration": 13.051843,
   "end_time": "2023-04-28T16:09:52.950344",
   "environment_variables": {},
   "exception": null,
   "input_path": "__notebook__.ipynb",
   "output_path": "__notebook__.ipynb",
   "parameters": {},
   "start_time": "2023-04-28T16:09:39.898501",
   "version": "2.4.0"
  }
 },
 "nbformat": 4,
 "nbformat_minor": 5
}
